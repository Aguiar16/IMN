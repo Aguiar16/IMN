{
 "cells": [
  {
   "cell_type": "code",
   "execution_count": 1,
   "metadata": {},
   "outputs": [],
   "source": [
    "import pandas as pd\n"
   ]
  },
  {
   "cell_type": "code",
   "execution_count": 2,
   "metadata": {},
   "outputs": [],
   "source": [
    "dataset = pd.read_csv(\"test.csv\")\n",
    "dataset2 = pd.read_csv(\"train.csv\")\n",
    "dataset3 = pd.read_csv(\"valid.csv\")\n"
   ]
  },
  {
   "cell_type": "code",
   "execution_count": 3,
   "metadata": {},
   "outputs": [],
   "source": [
    "def get_char_vocab(df, vocab_char):\n",
    "    \"\"\"Build char vocabulary from an iterable of datasets objects\n",
    "\n",
    "    Args:\n",
    "        dataset: a iterator yielding tuples (sentence, tags)\n",
    "\n",
    "    Returns:\n",
    "        a set of all the characters in the dataset\n",
    "\n",
    "    \"\"\"\n",
    "    for column in df.columns:\n",
    "        if column != \"Label\":\n",
    "            for words in df[column]:\n",
    "                for word in words:\n",
    "                    vocab_char.update(word)\n",
    "\n",
    "    return vocab_char\n",
    "\n",
    "def get_vocab(df , vocab):\n",
    "    for column in df.columns:\n",
    "        if column != \"Label\":\n",
    "            vocab.update(set(dataset2[column].str.cat(sep=' ').split()))\n",
    "\n",
    "    return vocab"
   ]
  },
  {
   "cell_type": "code",
   "execution_count": 4,
   "metadata": {},
   "outputs": [],
   "source": [
    "vocab = {\"<PAD>\", \"UNKNOWN\"}\n",
    "\n",
    "vocab = get_vocab(dataset2,vocab)\n",
    "\n",
    "with open(\"vocab.txt\",'w') as f2:\n",
    "    for index, item in enumerate(vocab):\n",
    "        f2.write(\"{}\t{}\\n\".format( item, index))\n",
    "\n",
    "vocab_char = set()\n",
    "\n",
    "char_vocab = get_char_vocab(dataset2, vocab_char)\n",
    "char_vocab = get_char_vocab(dataset, vocab_char)\n",
    "char_vocab = get_char_vocab(dataset3, vocab_char)\n",
    "\n",
    "with open(\"char_vocab.txt\",'w') as f:\n",
    "    for index, item in enumerate(sorted(char_vocab)):\n",
    "        f.write(\"{}\t{}\\n\".format(index, item))\n"
   ]
  },
  {
   "cell_type": "code",
   "execution_count": 5,
   "metadata": {},
   "outputs": [],
   "source": [
    "def response_train (df,response):\n",
    "\n",
    "    for index, row in df.iterrows():\n",
    "        if row['Label'] == 1.0:\n",
    "            if row['Utterance'] in response:\n",
    "                df.loc[index, 'Utterance'] = response.index(row['Utterance'])\n",
    "                # row['Utterance'] = response.index(row['Utterance'])\n",
    "                df.loc[index,'Label'] = \"NA\"\n",
    "            else:\n",
    "                response.append(row['Utterance'])\n",
    "                df.loc[index, 'Utterance'] = response.index(row['Utterance'])\n",
    "                df.loc[index,'Label'] = \"NA\"\n",
    "        else:\n",
    "            if row['Utterance'] in response:\n",
    "                df.loc[index,'Label'] = response.index(row['Utterance'])\n",
    "                df.loc[index, 'Utterance'] =  \"NA\"\n",
    "                \n",
    "            else:\n",
    "                response.append(row['Utterance'])\n",
    "                df.loc[index,'Label'] = response.index(row['Utterance'])\n",
    "                df.loc[index, 'Utterance'] = \"NA\"\n",
    "                \n",
    "    return df, response\n",
    "\n",
    "def response_test_valid (df, response):\n",
    "    for index, row in df.iterrows():\n",
    "        if row['Ground Truth Utterance'] in response:\n",
    "            df.loc[index,'Ground Truth Utterance'] = response.index(row['Ground Truth Utterance'])\n",
    "        else:\n",
    "            response.append(row['Ground Truth Utterance'])\n",
    "            df.loc[index,'Ground Truth Utterance'] = response.index(row['Ground Truth Utterance'])\n",
    "        \n",
    "        for i in range(9):\n",
    "            if row['Distractor_{}'.format(i)] in response:\n",
    "               df.loc[index,'Distractor_{}'.format(i)] = response.index(row['Distractor_{}'.format(i)])\n",
    "            else:\n",
    "                response.append(row['Distractor_{}'.format(i)])\n",
    "                df.loc[index,'Distractor_{}'.format(i)] = response.index(row['Distractor_{}'.format(i)])\n",
    "    return df,response\n",
    "\n",
    "def format_test_valid(df):\n",
    "    distractors_list = []\n",
    "    for index, row in df.iterrows():\n",
    "        distractors = []\n",
    "        for i in range(9):\n",
    "            distractors.append(row['Distractor_{}'.format(i)])\n",
    "        distractors = '|'.join(str(v) for v in distractors)\n",
    "        distractors_list.append(distractors)\n",
    "    df['Distractors'] = distractors_list\n",
    "\n",
    "    for i in range(9):\n",
    "        df.drop('Distractor_{}'.format(i), axis=1)\n",
    "    return df"
   ]
  },
  {
   "cell_type": "code",
   "execution_count": 6,
   "metadata": {},
   "outputs": [],
   "source": [
    "response = []\n",
    "dataset2, response = response_train(dataset2, response)\n",
    "\n",
    "# with open('train.txt', \"w\") as f2:\n",
    "#     [f2.write(\"\t\".join(row)+'\\n') for row in dataset2]\n",
    "\n",
    "dataset2.to_csv('train.txt', sep='\\t', header=None)\n",
    "\n",
    "dataset, response = response_test_valid(dataset, response)\n",
    "dataset = format_test_valid(dataset)\n",
    "\n",
    "# with open('test.txt', \"w\") as f1:\n",
    "#     [f1.write(\"\t\".join(row)+'\\n') for row in dataset]\n",
    "\n",
    "dataset2.to_csv('test.txt', sep='\\t', header=None)\n",
    "\n",
    "dataset3, response = response_test_valid(dataset3, response)\n",
    "dataset3 = format_test_valid(dataset3)\n",
    "\n",
    "# with open('valid.txt', \"w\") as f3:\n",
    "#     [f3.write(\"\t\".join(row)+'\\n') for row in dataset3]\n",
    "\n",
    "dataset3.to_csv('valid.txt', sep='\\t', header=None)\n",
    "\n",
    "with open(\"responses.txt\",'w') as f:\n",
    "    for index, item in enumerate(response):\n",
    "        f.write(\"{}\t{}\\n\".format(index, item))\n"
   ]
  }
 ],
 "metadata": {
  "kernelspec": {
   "display_name": "denv",
   "language": "python",
   "name": "python3"
  },
  "language_info": {
   "codemirror_mode": {
    "name": "ipython",
    "version": 3
   },
   "file_extension": ".py",
   "mimetype": "text/x-python",
   "name": "python",
   "nbconvert_exporter": "python",
   "pygments_lexer": "ipython3",
   "version": "3.10.8"
  },
  "orig_nbformat": 4,
  "vscode": {
   "interpreter": {
    "hash": "cedd2580080deb72abc312d796f854f4f2a81947bee11de923ea7ddf60df9b63"
   }
  }
 },
 "nbformat": 4,
 "nbformat_minor": 2
}
